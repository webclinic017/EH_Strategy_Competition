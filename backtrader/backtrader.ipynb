{
 "cells": [
  {
   "cell_type": "code",
   "execution_count": 1,
   "metadata": {},
   "outputs": [],
   "source": [
    "import backtrader as bt"
   ]
  },
  {
   "cell_type": "code",
   "execution_count": null,
   "metadata": {},
   "outputs": [],
   "source": [
    "class MyStrategy(bt.Strategy):\n",
    "    # 필요한 파라미터와 사용할 지수 정의\n",
    "    def __init__ (self): pass\n",
    "\n",
    "    # 트레이딩을 진행하는 부분\n",
    "    def next(self): pass\n",
    "\n",
    "if __name__ ==\"__main__\":\n",
    "    cerebro = bt.Cerebro()\n",
    "    cerebro.addstrategy(MyStrategy)"
   ]
  }
 ],
 "metadata": {
  "kernelspec": {
   "display_name": "Python 3.9.12 ('base')",
   "language": "python",
   "name": "python3"
  },
  "language_info": {
   "codemirror_mode": {
    "name": "ipython",
    "version": 3
   },
   "file_extension": ".py",
   "mimetype": "text/x-python",
   "name": "python",
   "nbconvert_exporter": "python",
   "pygments_lexer": "ipython3",
   "version": "3.9.12"
  },
  "orig_nbformat": 4,
  "vscode": {
   "interpreter": {
    "hash": "c84227958e67176de4ffbd2cfdac8aed8bea962ba8bfc1d046bcf54afacccd16"
   }
  }
 },
 "nbformat": 4,
 "nbformat_minor": 2
}
